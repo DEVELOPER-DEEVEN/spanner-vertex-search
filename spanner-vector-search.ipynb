{
  "nbformat": 4,
  "nbformat_minor": 0,
  "metadata": {
    "colab": {
      "provenance": []
    },
    "kernelspec": {
      "name": "python3",
      "display_name": "Python 3"
    },
    "language_info": {
      "name": "python"
    }
  },
  "cells": [
    {
      "cell_type": "code",
      "source": [
        "# Copyright 2023 Google LLC\n",
        "#\n",
        "# Licensed under the Apache License, Version 2.0 (the \"License\");\n",
        "# you may not use this file except in compliance with the License.\n",
        "# You may obtain a copy of the License at\n",
        "#\n",
        "#    https://www.apache.org/licenses/LICENSE-2.0\n",
        "#\n",
        "# Unless required by applicable law or agreed to in writing, software\n",
        "# distributed under the License is distributed on an \"AS IS\" BASIS,\n",
        "# WITHOUT WARRANTIES OR CONDITIONS OF ANY KIND, either express or implied.\n",
        "# See the License for the specific language governing permissions and\n",
        "### limitations under the License."
      ],
      "metadata": {
        "id": "NAQQ1qsQuo8i"
      },
      "execution_count": null,
      "outputs": []
    },
    {
      "cell_type": "markdown",
      "source": [
        "Use case:"
      ],
      "metadata": {
        "id": "o_i5c3_Za4l9"
      }
    },
    {
      "cell_type": "code",
      "source": [
        "# [START aiplatform_sdk_embedding]\n",
        "!pip install google-cloud-aiplatform==1.35.0 --upgrade --quiet --user"
      ],
      "metadata": {
        "id": "7NSicvZqSY64"
      },
      "execution_count": 13,
      "outputs": []
    },
    {
      "cell_type": "code",
      "source": [
        "import sys\n",
        "\n",
        "if \"google.colab\" in sys.modules:\n",
        "    # Define project information\n",
        "    PROJECT_ID = \"abis-345004\"  # @param {type:\"string\"}\n",
        "    LOCATION = \"us-central1\"  # @param {type:\"string\"}\n",
        "\n",
        "    # Authenticate user to Google Cloud\n",
        "    from google.colab import auth\n",
        "\n",
        "    auth.authenticate_user()\n"
      ],
      "metadata": {
        "id": "5veVTMaOUVMq"
      },
      "execution_count": 15,
      "outputs": []
    },
    {
      "cell_type": "code",
      "source": [
        " import vertexai\n",
        " vertexai.init(project=PROJECT_ID, location=\"us-central1\")"
      ],
      "metadata": {
        "id": "ru-cJyMDUT_Y"
      },
      "execution_count": 16,
      "outputs": []
    },
    {
      "cell_type": "code",
      "source": [
        "from vertexai.language_models import TextEmbeddingModel"
      ],
      "metadata": {
        "id": "V27ygxSoV05w"
      },
      "execution_count": 17,
      "outputs": []
    },
    {
      "cell_type": "code",
      "source": [
        "!pip install gradio\n",
        "import gradio as gr"
      ],
      "metadata": {
        "id": "9IGKtKWufGZl"
      },
      "execution_count": null,
      "outputs": []
    },
    {
      "cell_type": "code",
      "source": [
        "def text_embedding(content) -> list:\n",
        "    \"\"\"Text embedding with a Large Language Model.\"\"\"\n",
        "    model = TextEmbeddingModel.from_pretrained(\"textembedding-gecko@latest\")\n",
        "    embeddings = model.get_embeddings(content)\n",
        "    for embedding in embeddings:\n",
        "        vector = embedding.values\n",
        "        #print(f\"Length of Embedding Vector: {len(vector)}\")\n",
        "    return vector"
      ],
      "metadata": {
        "id": "xZKr9p2wSbef"
      },
      "execution_count": 18,
      "outputs": []
    },
    {
      "cell_type": "code",
      "source": [
        "from google.cloud import aiplatform\n",
        "DEPLOYED_INDEX_ID = \"spanner_vector1_1702366982123\""
      ],
      "metadata": {
        "id": "sKZ_tlaQbTms"
      },
      "execution_count": 29,
      "outputs": []
    },
    {
      "cell_type": "code",
      "source": [
        "def vector_search(content) -> list:\n",
        "  result = text_embedding(content)\n",
        "  #call_vector_search_api(content)\n",
        "  index_endpoint = aiplatform.MatchingEngineIndexEndpoint('projects/273845608377/locations/us-central1/indexEndpoints/2021628049526620160')\n",
        "  # run query\n",
        "  response = index_endpoint.find_neighbors(\n",
        "      deployed_index_id = DEPLOYED_INDEX_ID,\n",
        "      queries = [result],\n",
        "      num_neighbors = 10\n",
        "  )\n",
        "  out = []\n",
        "  # show the results\n",
        "  for idx, neighbor in enumerate(response[0]):\n",
        "      print(f\"{neighbor.distance:.2f} {spanner_read_data(neighbor.id)}\")\n",
        "      out.append(f\"{spanner_read_data(neighbor.id)}\")\n",
        "  return out"
      ],
      "metadata": {
        "id": "4gkZvXIXSxi2"
      },
      "execution_count": 30,
      "outputs": []
    },
    {
      "cell_type": "code",
      "source": [
        "#requirements.txt\n",
        "!pip install google-cloud-spanner==3.36.0"
      ],
      "metadata": {
        "id": "3ToK1Y1qpSmR"
      },
      "execution_count": null,
      "outputs": []
    },
    {
      "cell_type": "code",
      "source": [
        "from google.cloud import spanner\n",
        "\n",
        "instance_id = \"spanner-vertex\"\n",
        "database_id = \"spanner-vertex-embeddings\"\n",
        "projectId = PROJECT_ID\n",
        "\n",
        "client = spanner.Client()\n",
        "client.project = projectId\n",
        "instance = client.instance(instance_id)\n",
        "database = instance.database(database_id)\n",
        "\n",
        "def spanner_read_data(id):\n",
        "    #query = \"SELECT id, content, replace(replace(uri,'gs://img_public_test/data files/Apparel/girls-images_with_product_ids/','https://storage.googleapis.com/img_public_test/data%20files/Apparel/'),'gs://img_public_test/data files/Apparel/boys-images_with_product_ids/', 'https://storage.googleapis.com/img_public_test/data%20files/Apparel/') as uri FROM apparel_main where id = '\" + id + \"'\"\n",
        "    query = \"SELECT uri FROM apparels where id = \" + id\n",
        "    outputs = []\n",
        "    with database.snapshot() as snapshot:\n",
        "        results = snapshot.execute_sql(query)\n",
        "\n",
        "        for row in results:\n",
        "            #print(row)\n",
        "            #output = \"ID: {}, CONTENT: {}, URI: {}\".format(*row)\n",
        "            output = \"{}\".format(*row)\n",
        "            outputs.append(output)\n",
        "\n",
        "    return \"\\n\".join(outputs)\n"
      ],
      "metadata": {
        "id": "zf_GXBFApTDm"
      },
      "execution_count": 40,
      "outputs": []
    },
    {
      "cell_type": "code",
      "source": [
        "from PIL import Image\n",
        "\n",
        "def call_search(query):\n",
        "  response = vector_search(query)\n",
        "  return response\n",
        "\n",
        "#Query = gr.inputs.Textbox(label=\"Enter question\")\n",
        "#Response = gr.outputs.Textbox(label=\"Response\")\n",
        "input_text = gr.Textbox(label=\"Enter your query. Examples: Orange girls tops, denim skirt etc.\")\n",
        "output_texts = [gr.Image(label=\"\") for i in range(10)]\n",
        "demo = gr.Interface(fn=call_search, inputs=input_text, outputs=output_texts, live=True)\n",
        "resp = demo.launch(share = True)"
      ],
      "metadata": {
        "id": "tOZ7FZ12wpQ1",
        "colab": {
          "base_uri": "https://localhost:8080/",
          "height": 610
        },
        "outputId": "d67d2b68-7c9d-4db7-c9cb-eddd9f78d4fd"
      },
      "execution_count": 43,
      "outputs": [
        {
          "output_type": "stream",
          "name": "stdout",
          "text": [
            "Colab notebook detected. To show errors in colab notebook, set debug=True in launch()\n",
            "Running on public URL: https://48b836d9ec1d688bfd.gradio.live\n",
            "\n",
            "This share link expires in 72 hours. For free permanent hosting and GPU upgrades, run `gradio deploy` from Terminal to deploy to Spaces (https://huggingface.co/spaces)\n"
          ]
        },
        {
          "output_type": "display_data",
          "data": {
            "text/plain": [
              "<IPython.core.display.HTML object>"
            ],
            "text/html": [
              "<div><iframe src=\"https://48b836d9ec1d688bfd.gradio.live\" width=\"100%\" height=\"500\" allow=\"autoplay; camera; microphone; clipboard-read; clipboard-write;\" frameborder=\"0\" allowfullscreen></iframe></div>"
            ]
          },
          "metadata": {}
        }
      ]
    }
  ]
}